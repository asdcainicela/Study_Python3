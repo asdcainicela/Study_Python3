{
 "cells": [
  {
   "cell_type": "code",
   "execution_count": 27,
   "id": "0a5be2e7",
   "metadata": {},
   "outputs": [],
   "source": [
    "import pandas as pd"
   ]
  },
  {
   "cell_type": "markdown",
   "id": "f7543af7",
   "metadata": {},
   "source": [
    "Escribe una función a la que le podamos pasar un diccionario con notas de alumnos y nos devuelva la nota mínima, la máxima y media"
   ]
  },
  {
   "cell_type": "code",
   "execution_count": 28,
   "id": "98cdd180",
   "metadata": {},
   "outputs": [
    {
     "name": "stdout",
     "output_type": "stream",
     "text": [
      "minimo    12.000000\n",
      "maximo    17.000000\n",
      "Media     14.666667\n",
      "dtype: float64\n"
     ]
    }
   ],
   "source": [
    "\n",
    "def dame_estadistica(notas):\n",
    "    notas = pd.Series(notas)\n",
    "    estadistica = pd.Series([notas.min(), notas.max(), notas.mean()], index = ['minimo', 'maximo', 'Media'])\n",
    "    return estadistica\n",
    "\n",
    "notas = {\"Ana\": 12, \"Luis\": 17, \"Pedro\": 15}\n",
    "print(dame_estadistica(notas))"
   ]
  },
  {
   "cell_type": "markdown",
   "id": "0b0521ca",
   "metadata": {},
   "source": [
    "Crea una serieo a partir de una matriz con índices"
   ]
  },
  {
   "cell_type": "code",
   "execution_count": 29,
   "id": "baa225fe",
   "metadata": {},
   "outputs": [
    {
     "data": {
      "text/plain": [
       "1      Seat\n",
       "2      Audi\n",
       "3      Fiat\n",
       "4    Reanul\n",
       "dtype: object"
      ]
     },
     "execution_count": 29,
     "metadata": {},
     "output_type": "execute_result"
    }
   ],
   "source": [
    "import numpy as np\n",
    "datos = np.array([\"Seat\", \"Audi\", \"Fiat\", \"Reanul\" ])\n",
    "indices = [1,2,3,4]\n",
    "serie= pd.Series(datos, index = indices)\n",
    "serie"
   ]
  },
  {
   "cell_type": "markdown",
   "id": "199cad23",
   "metadata": {},
   "source": [
    "Crea una serie a partir de un diccionario"
   ]
  },
  {
   "cell_type": "code",
   "execution_count": 30,
   "id": "317b222f",
   "metadata": {},
   "outputs": [
    {
     "data": {
      "text/plain": [
       "juan     15\n",
       "edgar    20\n",
       "maria    36\n",
       "valve    65\n",
       "dtype: int64"
      ]
     },
     "execution_count": 30,
     "metadata": {},
     "output_type": "execute_result"
    }
   ],
   "source": [
    "diccionario = {\"juan\": 15,\n",
    "               \"edgar\": 20,\n",
    "               \"maria\": 36,\n",
    "               \"valve\": 65}\n",
    "\n",
    "serie1 = pd.Series(diccionario)\n",
    "serie1"
   ]
  },
  {
   "cell_type": "markdown",
   "id": "8ce564b6",
   "metadata": {},
   "source": [
    "Crea una serie  partir de una lista"
   ]
  },
  {
   "cell_type": "code",
   "execution_count": 31,
   "id": "b59ab21b",
   "metadata": {},
   "outputs": [
    {
     "data": {
      "text/plain": [
       "a    1\n",
       "b    2\n",
       "c    3\n",
       "d    5\n",
       "e    8\n",
       "f    4\n",
       "g    6\n",
       "h    9\n",
       "dtype: int64"
      ]
     },
     "execution_count": 31,
     "metadata": {},
     "output_type": "execute_result"
    }
   ],
   "source": [
    "Lista = [1,2,3,5,8,4,6,9]\n",
    "serie5 = pd.Series(Lista, index=['a', 'b', 'c', 'd', 'e', 'f', 'g', 'h'])\n",
    "serie5"
   ]
  },
  {
   "cell_type": "markdown",
   "id": "f4319e1d",
   "metadata": {},
   "source": [
    "Busca informacion en la web para crear una serie usando la función linspace de numpy"
   ]
  },
  {
   "cell_type": "code",
   "execution_count": 32,
   "id": "9351c6bd",
   "metadata": {},
   "outputs": [
    {
     "data": {
      "text/plain": [
       "0    25.000000\n",
       "1    29.285714\n",
       "2    33.571429\n",
       "3    37.857143\n",
       "4    42.142857\n",
       "5    46.428571\n",
       "6    50.714286\n",
       "7    55.000000\n",
       "dtype: float64"
      ]
     },
     "execution_count": 32,
     "metadata": {},
     "output_type": "execute_result"
    }
   ],
   "source": [
    "serie6 = pd.Series(np.linspace(25,55,8))\n",
    "serie6"
   ]
  },
  {
   "cell_type": "markdown",
   "id": "cbd8b689",
   "metadata": {},
   "source": [
    "crea una serie con numeros al azar entre 0 y 1"
   ]
  },
  {
   "cell_type": "code",
   "execution_count": 33,
   "id": "f886d656",
   "metadata": {},
   "outputs": [
    {
     "data": {
      "text/plain": [
       "0    0.339234\n",
       "1    0.819586\n",
       "2    0.543313\n",
       "3    0.039040\n",
       "4    0.282216\n",
       "5    0.375054\n",
       "6    0.567638\n",
       "7    0.991223\n",
       "8    0.260001\n",
       "9    0.257596\n",
       "dtype: float64"
      ]
     },
     "execution_count": 33,
     "metadata": {},
     "output_type": "execute_result"
    }
   ],
   "source": [
    "serie=pd.Series(np.random.rand(10))\n",
    "serie"
   ]
  },
  {
   "cell_type": "markdown",
   "id": "8d2d0f47",
   "metadata": {},
   "source": [
    "muestra los elementos de posiciones 1,3,5 de la serie anterior"
   ]
  },
  {
   "cell_type": "code",
   "execution_count": 34,
   "id": "6c8e0b40",
   "metadata": {},
   "outputs": [
    {
     "data": {
      "text/plain": [
       "1    0.819586\n",
       "3    0.039040\n",
       "5    0.375054\n",
       "dtype: float64"
      ]
     },
     "execution_count": 34,
     "metadata": {},
     "output_type": "execute_result"
    }
   ],
   "source": [
    "serie[[1,3,5]]"
   ]
  },
  {
   "cell_type": "markdown",
   "id": "73b0cecb",
   "metadata": {},
   "source": [
    "muestra los 2 primeros elementps de la serie anterior"
   ]
  },
  {
   "cell_type": "code",
   "execution_count": 35,
   "id": "9f66e75f",
   "metadata": {},
   "outputs": [
    {
     "data": {
      "text/plain": [
       "0    0.339234\n",
       "1    0.819586\n",
       "dtype: float64"
      ]
     },
     "execution_count": 35,
     "metadata": {},
     "output_type": "execute_result"
    }
   ],
   "source": [
    "serie.head(2)"
   ]
  },
  {
   "cell_type": "markdown",
   "id": "93679897",
   "metadata": {},
   "source": [
    "Muestra los 2 ultimos elementos de la serie anterior "
   ]
  },
  {
   "cell_type": "code",
   "execution_count": 36,
   "id": "f437b1da",
   "metadata": {},
   "outputs": [
    {
     "data": {
      "text/plain": [
       "8    0.260001\n",
       "9    0.257596\n",
       "dtype: float64"
      ]
     },
     "execution_count": 36,
     "metadata": {},
     "output_type": "execute_result"
    }
   ],
   "source": [
    "serie.tail(2)"
   ]
  }
 ],
 "metadata": {
  "kernelspec": {
   "display_name": "Python 3",
   "language": "python",
   "name": "python3"
  },
  "language_info": {
   "codemirror_mode": {
    "name": "ipython",
    "version": 3
   },
   "file_extension": ".py",
   "mimetype": "text/x-python",
   "name": "python",
   "nbconvert_exporter": "python",
   "pygments_lexer": "ipython3",
   "version": "3.10.11"
  }
 },
 "nbformat": 4,
 "nbformat_minor": 5
}
