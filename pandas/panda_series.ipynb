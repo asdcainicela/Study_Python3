{
 "cells": [
  {
   "cell_type": "code",
   "execution_count": 20,
   "id": "c9bf2793",
   "metadata": {},
   "outputs": [],
   "source": [
    "import pandas as pd"
   ]
  },
  {
   "cell_type": "markdown",
   "id": "6feffbe7",
   "metadata": {},
   "source": [
    "# toma de contacto"
   ]
  },
  {
   "cell_type": "code",
   "execution_count": 21,
   "id": "9853a3b6",
   "metadata": {},
   "outputs": [
    {
     "data": {
      "text/html": [
       "<div>\n",
       "<style scoped>\n",
       "    .dataframe tbody tr th:only-of-type {\n",
       "        vertical-align: middle;\n",
       "    }\n",
       "\n",
       "    .dataframe tbody tr th {\n",
       "        vertical-align: top;\n",
       "    }\n",
       "\n",
       "    .dataframe thead th {\n",
       "        text-align: right;\n",
       "    }\n",
       "</style>\n",
       "<table border=\"1\" class=\"dataframe\">\n",
       "  <thead>\n",
       "    <tr style=\"text-align: right;\">\n",
       "      <th></th>\n",
       "      <th>a</th>\n",
       "      <th>b</th>\n",
       "      <th>c</th>\n",
       "    </tr>\n",
       "  </thead>\n",
       "  <tbody>\n",
       "    <tr>\n",
       "      <th>0</th>\n",
       "      <td>12</td>\n",
       "      <td>4</td>\n",
       "      <td>9</td>\n",
       "    </tr>\n",
       "    <tr>\n",
       "      <th>1</th>\n",
       "      <td>6</td>\n",
       "      <td>12</td>\n",
       "      <td>19</td>\n",
       "    </tr>\n",
       "  </tbody>\n",
       "</table>\n",
       "</div>"
      ],
      "text/plain": [
       "    a   b   c\n",
       "0  12   4   9\n",
       "1   6  12  19"
      ]
     },
     "execution_count": 21,
     "metadata": {},
     "output_type": "execute_result"
    }
   ],
   "source": [
    "diccionario = [{'a': 12, 'b': 4, 'c': 9},{'a': 6, 'b':12, 'c':19}]\n",
    "\n",
    "df =pd.DataFrame(diccionario)\n",
    "df"
   ]
  },
  {
   "cell_type": "markdown",
   "id": "6ef8721e",
   "metadata": {},
   "source": [
    "# Series"
   ]
  },
  {
   "cell_type": "code",
   "execution_count": 22,
   "id": "987473c7",
   "metadata": {},
   "outputs": [
    {
     "data": {
      "text/plain": [
       "a    2.0\n",
       "b    6.0\n",
       "c   -4.0\n",
       "d    5.0\n",
       "e    9.0\n",
       "f    2.6\n",
       "dtype: float64"
      ]
     },
     "execution_count": 22,
     "metadata": {},
     "output_type": "execute_result"
    }
   ],
   "source": [
    "serie = pd.Series([2,6,-4,5,9,2.6], index=['a', 'b', 'c', 'd', 'e', 'f'])\n",
    "serie"
   ]
  },
  {
   "cell_type": "code",
   "execution_count": 23,
   "id": "b3e04c73",
   "metadata": {},
   "outputs": [
    {
     "data": {
      "text/plain": [
       "b    6.0\n",
       "c   -4.0\n",
       "d    5.0\n",
       "f    2.6\n",
       "dtype: float64"
      ]
     },
     "execution_count": 23,
     "metadata": {},
     "output_type": "execute_result"
    }
   ],
   "source": [
    "# borra serie\n",
    "serie2 =serie.drop(['a', 'e'])\n",
    "serie2"
   ]
  },
  {
   "cell_type": "code",
   "execution_count": 24,
   "id": "82022842",
   "metadata": {},
   "outputs": [
    {
     "data": {
      "text/plain": [
       "a    2.0\n",
       "b    6.0\n",
       "dtype: float64"
      ]
     },
     "execution_count": 24,
     "metadata": {},
     "output_type": "execute_result"
    }
   ],
   "source": [
    "# seleccion\n",
    "serie[['a', 'b']]"
   ]
  },
  {
   "cell_type": "code",
   "execution_count": 25,
   "id": "6e0c9ae3",
   "metadata": {},
   "outputs": [
    {
     "data": {
      "text/plain": [
       "a     2.0\n",
       "b    55.0\n",
       "c    -4.0\n",
       "d     5.0\n",
       "e     9.0\n",
       "f     2.6\n",
       "dtype: float64"
      ]
     },
     "execution_count": 25,
     "metadata": {},
     "output_type": "execute_result"
    }
   ],
   "source": [
    "# asignacion\n",
    "serie['b'] = 55\n",
    "serie"
   ]
  },
  {
   "cell_type": "code",
   "execution_count": 26,
   "id": "efb08df3",
   "metadata": {},
   "outputs": [
    {
     "data": {
      "text/plain": [
       "a    2.0\n",
       "c   -4.0\n",
       "f    2.6\n",
       "dtype: float64"
      ]
     },
     "execution_count": 26,
     "metadata": {},
     "output_type": "execute_result"
    }
   ],
   "source": [
    "# filtros - pulsar alt+126 ~\n",
    "# valores menor a 5\n",
    "serie[~(serie>4)]"
   ]
  },
  {
   "cell_type": "code",
   "execution_count": 27,
   "id": "198052b1",
   "metadata": {},
   "outputs": [
    {
     "data": {
      "text/plain": [
       "a    2.0\n",
       "c   -4.0\n",
       "f    2.6\n",
       "dtype: float64"
      ]
     },
     "execution_count": 27,
     "metadata": {},
     "output_type": "execute_result"
    }
   ],
   "source": [
    "serie[(serie<4)]"
   ]
  },
  {
   "cell_type": "code",
   "execution_count": 28,
   "id": "0a8db17f",
   "metadata": {},
   "outputs": [
    {
     "data": {
      "text/plain": [
       "a     2.0\n",
       "b    55.0\n",
       "c    -4.0\n",
       "d     5.0\n",
       "e     9.0\n",
       "f     2.6\n",
       "dtype: float64"
      ]
     },
     "execution_count": 28,
     "metadata": {},
     "output_type": "execute_result"
    }
   ],
   "source": [
    "serie"
   ]
  },
  {
   "cell_type": "code",
   "execution_count": 29,
   "id": "7eae5786",
   "metadata": {},
   "outputs": [
    {
     "data": {
      "text/plain": [
       "b    55.0\n",
       "c    -4.0\n",
       "d     5.0\n",
       "e     9.0\n",
       "dtype: float64"
      ]
     },
     "execution_count": 29,
     "metadata": {},
     "output_type": "execute_result"
    }
   ],
   "source": [
    "# valores entre intervalo\n",
    "serie[(serie<0) | (serie>4)]"
   ]
  },
  {
   "cell_type": "code",
   "execution_count": 30,
   "id": "05c4c775",
   "metadata": {},
   "outputs": [
    {
     "data": {
      "text/plain": [
       "b    7\n",
       "c    5\n",
       "e   -4\n",
       "dtype: int64"
      ]
     },
     "execution_count": 30,
     "metadata": {},
     "output_type": "execute_result"
    }
   ],
   "source": [
    "# valores nulos al unir con diferentes indices\n",
    "serie3 = pd.Series([7, 5, -4], index = ['b', 'c', 'e'])\n",
    "serie3"
   ]
  },
  {
   "cell_type": "code",
   "execution_count": 31,
   "id": "77a998a2",
   "metadata": {},
   "outputs": [
    {
     "data": {
      "text/plain": [
       "a     NaN\n",
       "b    62.0\n",
       "c     1.0\n",
       "d     NaN\n",
       "e     5.0\n",
       "f     NaN\n",
       "dtype: float64"
      ]
     },
     "execution_count": 31,
     "metadata": {},
     "output_type": "execute_result"
    }
   ],
   "source": [
    "serie4 = serie+serie3\n",
    "serie4"
   ]
  },
  {
   "cell_type": "code",
   "execution_count": 32,
   "id": "cceab452",
   "metadata": {},
   "outputs": [
    {
     "data": {
      "text/plain": [
       "a     2.0\n",
       "b    62.0\n",
       "c     1.0\n",
       "d     5.0\n",
       "e     5.0\n",
       "f     2.6\n",
       "dtype: float64"
      ]
     },
     "execution_count": 32,
     "metadata": {},
     "output_type": "execute_result"
    }
   ],
   "source": [
    "# operadores con metodos de relleno\n",
    "serie.add(serie3, fill_value=0)\n"
   ]
  },
  {
   "cell_type": "code",
   "execution_count": 33,
   "id": "28540dec",
   "metadata": {},
   "outputs": [
    {
     "data": {
      "text/plain": [
       "a     2.0\n",
       "b    48.0\n",
       "c    -9.0\n",
       "d     5.0\n",
       "e    13.0\n",
       "f     2.6\n",
       "dtype: float64"
      ]
     },
     "execution_count": 33,
     "metadata": {},
     "output_type": "execute_result"
    }
   ],
   "source": [
    "serie4=serie.sub(serie3, fill_value=0)\n",
    "serie4"
   ]
  },
  {
   "cell_type": "code",
   "execution_count": null,
   "id": "ea33e482",
   "metadata": {},
   "outputs": [
    {
     "data": {
      "text/plain": [
       "a      0.0\n",
       "b    385.0\n",
       "c    -20.0\n",
       "d      0.0\n",
       "e    -36.0\n",
       "f      0.0\n",
       "dtype: float64"
      ]
     },
     "execution_count": 34,
     "metadata": {},
     "output_type": "execute_result"
    }
   ],
   "source": [
    "serie.mul(serie3, fill_value=0)"
   ]
  },
  {
   "cell_type": "code",
   "execution_count": 35,
   "id": "59560d79",
   "metadata": {},
   "outputs": [
    {
     "data": {
      "text/plain": [
       "a         inf\n",
       "b    7.857143\n",
       "c   -0.800000\n",
       "d         inf\n",
       "e   -2.250000\n",
       "f         inf\n",
       "dtype: float64"
      ]
     },
     "execution_count": 35,
     "metadata": {},
     "output_type": "execute_result"
    }
   ],
   "source": [
    "serie.div(serie3, fill_value=0)"
   ]
  }
 ],
 "metadata": {
  "kernelspec": {
   "display_name": "Python 3",
   "language": "python",
   "name": "python3"
  },
  "language_info": {
   "codemirror_mode": {
    "name": "ipython",
    "version": 3
   },
   "file_extension": ".py",
   "mimetype": "text/x-python",
   "name": "python",
   "nbconvert_exporter": "python",
   "pygments_lexer": "ipython3",
   "version": "3.10.11"
  }
 },
 "nbformat": 4,
 "nbformat_minor": 5
}
